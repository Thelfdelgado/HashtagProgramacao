{
 "cells": [
  {
   "cell_type": "markdown",
   "metadata": {},
   "source": [
    "# Exercícios\n",
    "\n",
    "## 1. Faturamento do Melhor e do Pior Mês do Ano\n",
    "\n",
    "Qual foi o valor de vendas do melhor mês do Ano?\n",
    "E valor do pior mês do ano?"
   ]
  },
  {
   "cell_type": "code",
   "execution_count": 15,
   "metadata": {},
   "outputs": [
    {
     "name": "stdout",
     "output_type": "stream",
     "text": [
      "O melhor mes do ano foi nov com 49051 vendas. E o pior mes do ano foi dez com 9650 vendas\n"
     ]
    }
   ],
   "source": [
    "meses = ['jan', 'fev', 'mar', 'abr', 'mai', 'jun', 'jul', 'ago', 'set', 'out', 'nov', 'dez']\n",
    "vendas_1sem = [25000, 29000, 22200, 17750, 15870, 19900]\n",
    "vendas_2sem = [19850, 20120, 17540, 15555, 49051, 9650]\n",
    "vendas_anual = vendas_1sem + vendas_2sem\n",
    "\n",
    "maior_venda = max(vendas_anual)\n",
    "iMaior = vendas_anual.index(maior_venda)\n",
    "melhor_mes = meses[iMaior]\n",
    "\n",
    "menor_venda = min(vendas_anual)\n",
    "iMenor = vendas_anual.index(menor_venda)\n",
    "pior_mes = meses[iMenor]\n",
    "\n",
    "print('O melhor mes do ano foi {} com {} vendas. E o pior mes do ano foi {} com {} vendas'.format(melhor_mes, maior_venda, pior_mes, menor_venda))"
   ]
  },
  {
   "cell_type": "markdown",
   "metadata": {},
   "source": [
    "## 2. Continuação\n",
    "\n",
    "Agora relacione as duas listas para printar 'O melhor mês do ano foi {} com {} vendas' e o mesmo para o pior mês do ano.\n",
    "\n",
    "Calcule também o faturamento total do Ano e quanto que o melhor mês representou do faturamento total.\n",
    "\n",
    "Obs: Para o faturamento total, pode usar a função sum(lista) que soma todos os itens de uma lista"
   ]
  },
  {
   "cell_type": "code",
   "execution_count": 16,
   "metadata": {},
   "outputs": [
    {
     "name": "stdout",
     "output_type": "stream",
     "text": [
      "O faturamento anual foi de 261486. E o melhor mes representou 5.33% das vendas\n",
      "O melhor mes do ano foi nov com 49051 vendas. E o pior mes do ano foi dez com 9650 vendas\n"
     ]
    }
   ],
   "source": [
    "fatu_anual = sum(vendas_anual)\n",
    "melhor_mes_procent = fatu_anual / (maior_venda * 100)\n",
    "\n",
    "print('O faturamento anual foi de {}. E o melhor mes representou {:.2%} das vendas'.format(fatu_anual,melhor_mes_procent))\n",
    "print('O melhor mes do ano foi {} com {} vendas. E o pior mes do ano foi {} com {} vendas'.format(melhor_mes, maior_venda, pior_mes, menor_venda))"
   ]
  },
  {
   "cell_type": "markdown",
   "metadata": {},
   "source": [
    "## 3. Crie uma lista com o top 3 valores de vendas do ano (sem fazer \"no olho\")\n",
    "\n",
    "Dica: o método remove retira um item da lista."
   ]
  },
  {
   "cell_type": "code",
   "execution_count": 17,
   "metadata": {},
   "outputs": [
    {
     "name": "stdout",
     "output_type": "stream",
     "text": [
      "[49051, 29000, 25000]\n"
     ]
    }
   ],
   "source": [
    "top3 = []\n",
    "\n",
    "top1 = max(vendas_anual)\n",
    "top3.append(top1)\n",
    "vendas_anual.remove(top1)\n",
    "\n",
    "top2 = max(vendas_anual)\n",
    "top3.append(top2)\n",
    "vendas_anual.remove(top2)\n",
    "\n",
    "top_tres = max(vendas_anual)\n",
    "top3.append(top_tres)\n",
    "vendas_anual.remove(top_tres)\n",
    "\n",
    "print(top3)"
   ]
  }
 ],
 "metadata": {
  "kernelspec": {
   "display_name": "Python 3.9.12 ('base')",
   "language": "python",
   "name": "python3"
  },
  "language_info": {
   "codemirror_mode": {
    "name": "ipython",
    "version": 3
   },
   "file_extension": ".py",
   "mimetype": "text/x-python",
   "name": "python",
   "nbconvert_exporter": "python",
   "pygments_lexer": "ipython3",
   "version": "3.9.12"
  },
  "vscode": {
   "interpreter": {
    "hash": "11d000f8c8ddaf1b1615cd4a55e0c52cffba261ac1b0304eb4815222f8ffe5ea"
   }
  }
 },
 "nbformat": 4,
 "nbformat_minor": 4
}
