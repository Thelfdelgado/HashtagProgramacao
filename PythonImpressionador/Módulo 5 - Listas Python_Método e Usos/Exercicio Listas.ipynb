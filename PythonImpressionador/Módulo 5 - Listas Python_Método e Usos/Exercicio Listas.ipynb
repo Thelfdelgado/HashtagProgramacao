{
 "cells": [
  {
   "cell_type": "markdown",
   "metadata": {},
   "source": [
    "# Exercícios\n",
    "\n",
    "## 1. Faturamento do Melhor e do Pior Mês do Ano\n",
    "\n",
    "Qual foi o valor de vendas do melhor mês do Ano?\n",
    "E valor do pior mês do ano?"
   ]
  },
  {
   "cell_type": "code",
   "execution_count": 22,
   "metadata": {},
   "outputs": [
    {
     "name": "stdout",
     "output_type": "stream",
     "text": [
      "O melhor mes foi jun com 190900 vendas. O pior mes foi ago com 120 vendas\n"
     ]
    }
   ],
   "source": [
    "meses = ['jan', 'fev', 'mar', 'abr', 'mai', 'jun', 'jul', 'ago', 'set', 'out', 'nov', 'dez']\n",
    "vendas_1sem = [25000, 29000, 22200, 17750, 15870, 190900]\n",
    "vendas_2sem = [19850, 120, 17540, 15555, 49051, 9650]\n",
    "vendas_anual = vendas_1sem + vendas_2sem\n",
    "\n",
    "maior = max(vendas_anual)\n",
    "menor = min(vendas_anual)\n",
    "\n",
    "iMaior = vendas_anual.index(maior)\n",
    "iMenor = vendas_anual.index(menor)\n",
    "\n",
    "melhorMes = meses[iMaior]\n",
    "piorMes = meses[iMenor]\n",
    "\n",
    "print(f'O melhor mes foi {melhorMes} com {maior} vendas. O pior mes foi {piorMes} com {menor} vendas')"
   ]
  },
  {
   "cell_type": "markdown",
   "metadata": {},
   "source": [
    "## 2. Continuação\n",
    "\n",
    "Agora relacione as duas listas para printar 'O melhor mês do ano foi {} com {} vendas' e o mesmo para o pior mês do ano.\n",
    "\n",
    "Calcule também o faturamento total do Ano e quanto que o melhor mês representou do faturamento total.\n",
    "\n",
    "Obs: Para o faturamento total, pode usar a função sum(lista) que soma todos os itens de uma lista"
   ]
  },
  {
   "cell_type": "code",
   "execution_count": 25,
   "metadata": {},
   "outputs": [
    {
     "name": "stdout",
     "output_type": "stream",
     "text": [
      "Faturamento anual de R$412,486.00. Melhor mes representou 46.28% das vendas\n"
     ]
    }
   ],
   "source": [
    "faturamento = sum(vendas_anual)\n",
    "mesBom = maior / faturamento\n",
    "\n",
    "print('Faturamento anual de R${:,.2f}. Melhor mes representou {:.2%} das vendas'.format(faturamento, mesBom))"
   ]
  },
  {
   "cell_type": "markdown",
   "metadata": {},
   "source": [
    "## 3. Crie uma lista com o top 3 valores de vendas do ano (sem fazer \"no olho\")\n",
    "\n",
    "Dica: o método remove retira um item da lista."
   ]
  },
  {
   "cell_type": "code",
   "execution_count": 28,
   "metadata": {},
   "outputs": [
    {
     "name": "stdout",
     "output_type": "stream",
     "text": [
      "[190900, 49051, 29000]\n"
     ]
    }
   ],
   "source": [
    "vendas_anual.sort(reverse=True)\n",
    "\n",
    "print(vendas_anual[:3])"
   ]
  }
 ],
 "metadata": {
  "kernelspec": {
   "display_name": "Python 3",
   "language": "python",
   "name": "python3"
  },
  "language_info": {
   "codemirror_mode": {
    "name": "ipython",
    "version": 3
   },
   "file_extension": ".py",
   "mimetype": "text/x-python",
   "name": "python",
   "nbconvert_exporter": "python",
   "pygments_lexer": "ipython3",
   "version": "3.10.9"
  },
  "vscode": {
   "interpreter": {
    "hash": "88ab3028cb5e8d826e3baa20b5f270138e6e2ff36e2acf877ab78f8f4582f8e3"
   }
  }
 },
 "nbformat": 4,
 "nbformat_minor": 4
}
