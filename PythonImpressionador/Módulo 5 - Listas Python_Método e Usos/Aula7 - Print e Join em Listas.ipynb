{
 "cells": [
  {
   "cell_type": "markdown",
   "metadata": {},
   "source": [
    "# Print de Listas\n",
    "\n",
    "2 Opções:\n",
    "- print \"normal\"\n",
    "- método join -> texto.join(lista)"
   ]
  },
  {
   "cell_type": "code",
   "execution_count": 1,
   "metadata": {},
   "outputs": [
    {
     "name": "stdout",
     "output_type": "stream",
     "text": [
      "['apple tv', 'mac', 'iphone x', 'iphone 11', 'IPad', 'apple watch', 'mac book', 'airpods']\n",
      "apple tv\n",
      "mac\n",
      "iphone x\n",
      "iphone 11\n",
      "IPad\n",
      "apple watch\n",
      "mac book\n",
      "airpods\n"
     ]
    }
   ],
   "source": [
    "produtos = ['apple tv', 'mac', 'iphone x', 'iphone 11', 'IPad', 'apple watch', 'mac book', 'airpods']\n",
    "print(produtos)\n",
    "\n",
    "print('\\n'.join(produtos))"
   ]
  },
  {
   "cell_type": "markdown",
   "metadata": {},
   "source": [
    "Lembrando do método split de strings:\n",
    "\n",
    "lista = texto.split(separador)"
   ]
  },
  {
   "cell_type": "code",
   "execution_count": 2,
   "metadata": {},
   "outputs": [
    {
     "name": "stdout",
     "output_type": "stream",
     "text": [
      "['apple tv', 'mac', 'iphone x', 'iphone 11', 'IPad', 'apple watch', 'mac book', 'airpods']\n"
     ]
    }
   ],
   "source": [
    "produtos = 'apple tv, mac, iphone x, iphone 11, IPad, apple watch, mac book, airpods'\n",
    "lista = produtos.split(', ')\n",
    "\n",
    "print(lista)"
   ]
  }
 ],
 "metadata": {
  "kernelspec": {
   "display_name": "Python 3",
   "language": "python",
   "name": "python3"
  },
  "language_info": {
   "codemirror_mode": {
    "name": "ipython",
    "version": 3
   },
   "file_extension": ".py",
   "mimetype": "text/x-python",
   "name": "python",
   "nbconvert_exporter": "python",
   "pygments_lexer": "ipython3",
   "version": "3.10.9"
  },
  "vscode": {
   "interpreter": {
    "hash": "88ab3028cb5e8d826e3baa20b5f270138e6e2ff36e2acf877ab78f8f4582f8e3"
   }
  }
 },
 "nbformat": 4,
 "nbformat_minor": 4
}
