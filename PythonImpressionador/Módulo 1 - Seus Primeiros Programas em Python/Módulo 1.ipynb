{
 "cells": [
  {
   "cell_type": "markdown",
   "id": "da36e7f9",
   "metadata": {},
   "source": [
    "1 - Meu primeiro programa"
   ]
  },
  {
   "cell_type": "code",
   "execution_count": 2,
   "id": "f40086a5",
   "metadata": {},
   "outputs": [
    {
     "name": "stdout",
     "output_type": "stream",
     "text": [
      "Um texto\n"
     ]
    }
   ],
   "source": [
    "print('Um texto')"
   ]
  },
  {
   "cell_type": "markdown",
   "id": "f1931566",
   "metadata": {},
   "source": [
    "2 - Operações Básicas"
   ]
  },
  {
   "cell_type": "code",
   "execution_count": 3,
   "id": "9a6ff562",
   "metadata": {},
   "outputs": [
    {
     "name": "stdout",
     "output_type": "stream",
     "text": [
      "2\n",
      "0\n",
      "1\n",
      "1.0\n",
      "1\n"
     ]
    }
   ],
   "source": [
    "print(1 + 1)\n",
    "print(1 - 1)\n",
    "print(1 * 1)\n",
    "print(1 / 1)\n",
    "print(7 % 3) # mod (resto da divisão)"
   ]
  },
  {
   "cell_type": "markdown",
   "id": "49be7e3e",
   "metadata": {},
   "source": [
    "3 - Ordem das Operações no Python"
   ]
  },
  {
   "cell_type": "code",
   "execution_count": 4,
   "id": "eec82bee",
   "metadata": {},
   "outputs": [
    {
     "name": "stdout",
     "output_type": "stream",
     "text": [
      "6\n"
     ]
    }
   ],
   "source": [
    "print((1 + 2) * 2)"
   ]
  },
  {
   "cell_type": "markdown",
   "id": "ee7796ff",
   "metadata": {},
   "source": [
    "4 - Operação com Texto (string)"
   ]
  },
  {
   "cell_type": "code",
   "execution_count": 5,
   "id": "3fdfc36e",
   "metadata": {},
   "outputs": [
    {
     "name": "stdout",
     "output_type": "stream",
     "text": [
      "meu nome é Luiz\n",
      "True\n"
     ]
    }
   ],
   "source": [
    "print('meu nome é ' + 'Luiz') # Concatenação\n",
    "print('L' in 'Luiz') # contido (L in(contem em) Luiz)"
   ]
  },
  {
   "cell_type": "markdown",
   "id": "9ec410db",
   "metadata": {},
   "source": [
    "5 - Variáveis"
   ]
  },
  {
   "cell_type": "code",
   "execution_count": 6,
   "id": "a8c2e0d5",
   "metadata": {},
   "outputs": [
    {
     "name": "stdout",
     "output_type": "stream",
     "text": [
      "1500\n",
      "Luiz\n"
     ]
    }
   ],
   "source": [
    "qtde_vendas = 1500\n",
    "nome = 'Luiz'\n",
    "\n",
    "\n",
    "print(qtde_vendas)\n",
    "print(nome)"
   ]
  },
  {
   "cell_type": "markdown",
   "id": "d0d7c468",
   "metadata": {},
   "source": [
    "6 - Input: Pegando Informações do Usuário"
   ]
  },
  {
   "cell_type": "code",
   "execution_count": 7,
   "id": "47ad628c",
   "metadata": {},
   "outputs": [
    {
     "name": "stdout",
     "output_type": "stream",
     "text": [
      "Luiz Delgado\n"
     ]
    }
   ],
   "source": [
    "nome = input('Qual o seu primeiro nome?')\n",
    "sobrenome = input('Qual o seu sobrenome?')\n",
    "\n",
    "print(nome + ' ' + sobrenome)"
   ]
  }
 ],
 "metadata": {
  "kernelspec": {
   "display_name": "Python 3",
   "language": "python",
   "name": "python3"
  },
  "language_info": {
   "codemirror_mode": {
    "name": "ipython",
    "version": 3
   },
   "file_extension": ".py",
   "mimetype": "text/x-python",
   "name": "python",
   "nbconvert_exporter": "python",
   "pygments_lexer": "ipython3",
   "version": "3.10.9"
  },
  "vscode": {
   "interpreter": {
    "hash": "88ab3028cb5e8d826e3baa20b5f270138e6e2ff36e2acf877ab78f8f4582f8e3"
   }
  }
 },
 "nbformat": 4,
 "nbformat_minor": 5
}
