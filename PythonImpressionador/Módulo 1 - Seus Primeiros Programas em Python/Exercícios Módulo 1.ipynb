{
 "cells": [
  {
   "cell_type": "markdown",
   "metadata": {},
   "source": [
    "# Exercícios do Módulo 1 - Operações, Variáveis e Input"
   ]
  },
  {
   "cell_type": "markdown",
   "metadata": {},
   "source": [
    "### Parte 1 - Operações e Variáveis\n",
    "Crie um programa que imprima (print) os principais indicadores da loja Hashtag&Drink no último ano.\n",
    "Obs: faça tudo usando variáveis.\n",
    "\n",
    "Valores do último ano:\n",
    "\n",
    "Quantidade de Vendas de Coca = 150<br>\n",
    "Quantidade de Vendas de Pepsi = 130<br>\n",
    "Preço Unitário da Coca = 1,50 <br>\n",
    "Preço Unitário da Pepsi = 1,50<br>\n",
    "Custo da Loja: 2.500,00\n",
    "\n",
    "Use o bloco abaixo para criar todas as variáveis que precisar."
   ]
  },
  {
   "cell_type": "code",
   "execution_count": 7,
   "metadata": {},
   "outputs": [],
   "source": [
    "qtde_coca = 150\n",
    "qtde_pepsi = 130\n",
    "preco_coca = 1.50\n",
    "preco_pepsi = 1.50\n",
    "custo = 2500"
   ]
  },
  {
   "cell_type": "markdown",
   "metadata": {},
   "source": [
    "1. Qual foi o faturamento de Pepsi da Loja?"
   ]
  },
  {
   "cell_type": "code",
   "execution_count": 8,
   "metadata": {},
   "outputs": [
    {
     "name": "stdout",
     "output_type": "stream",
     "text": [
      "195.0\n"
     ]
    }
   ],
   "source": [
    "faturamento_pepsi = qtde_pepsi * preco_pepsi\n",
    "\n",
    "print(faturamento_pepsi)"
   ]
  },
  {
   "cell_type": "markdown",
   "metadata": {},
   "source": [
    "2. Qual foi o faturamento de Coca da Loja?"
   ]
  },
  {
   "cell_type": "code",
   "execution_count": 9,
   "metadata": {},
   "outputs": [
    {
     "name": "stdout",
     "output_type": "stream",
     "text": [
      "225.0\n"
     ]
    }
   ],
   "source": [
    "faturamento_coca = qtde_coca * preco_coca\n",
    "\n",
    "print(faturamento_coca)"
   ]
  },
  {
   "cell_type": "markdown",
   "metadata": {},
   "source": [
    "3. Qual foi o Lucro da loja?"
   ]
  },
  {
   "cell_type": "code",
   "execution_count": 10,
   "metadata": {},
   "outputs": [
    {
     "name": "stdout",
     "output_type": "stream",
     "text": [
      "-2080.0\n"
     ]
    }
   ],
   "source": [
    "faturamento = faturamento_coca + faturamento_pepsi\n",
    "lucro_loja = faturamento - custo\n",
    "\n",
    "print(lucro_loja)"
   ]
  },
  {
   "cell_type": "markdown",
   "metadata": {},
   "source": [
    "4. Qual foi a Margem da Loja? (Lembre-se, margem = Lucro / Faturamento). Não precisa formatar em percentual"
   ]
  },
  {
   "cell_type": "code",
   "execution_count": 11,
   "metadata": {},
   "outputs": [
    {
     "name": "stdout",
     "output_type": "stream",
     "text": [
      "-4.9523809523809526\n"
     ]
    }
   ],
   "source": [
    "margem = lucro_loja / faturamento\n",
    "\n",
    "print(margem)"
   ]
  },
  {
   "cell_type": "markdown",
   "metadata": {},
   "source": [
    "### Parte 2 - Inputs e Strings"
   ]
  },
  {
   "cell_type": "markdown",
   "metadata": {},
   "source": [
    "A maioria das empresas trabalham com um Código para cada produto que possuem. A Hashtag&Drink, por exemplo, tem mais de 1.000 produtos e possui um código para cada produto.\n",
    "Ex: \n",
    "Coca -> Código: BEB1300543<br>\n",
    "Pepsi -> Código: BEB1300545<br>\n",
    "Vinho Primitivo Lucarelli -> Código: BAC1546001<br>\n",
    "Vodka Smirnoff -> Código: BAC17675002<br>\n",
    "\n",
    "Repare que todas as bebidas não alcóolicas tem o início do Código \"BEB\" e todas as bebidas alcóolicas tem o início do código \"BAC\".\n",
    "\n",
    "Crie um programa de consulta de bebida que, dado um código qualquer, identifique se a bebida é alcóolica. O programa deve responder True para bebidas alcóolicas e False para bebidas não alcóolicas. Para inserir um código, use um input.\n",
    "\n",
    "Dica: Lembre-se do comando in para strings e sempre insira os códigos com letra maiúscula para facilitar."
   ]
  },
  {
   "cell_type": "code",
   "execution_count": 12,
   "metadata": {},
   "outputs": [
    {
     "name": "stdout",
     "output_type": "stream",
     "text": [
      "True\n"
     ]
    }
   ],
   "source": [
    "cod_bebida = input('Código da Bebida: ')\n",
    "\n",
    "cod_coca = 'BEB1300543'\n",
    "cod_pepsi = 'BEB1300545'\n",
    "cod_vinho = 'BAC1546001'\n",
    "cod_vodka = 'BAC17675002'\n",
    "cod_alcoolica = 'BAC' in cod_bebida\n",
    "\n",
    "print(cod_alcoolica)"
   ]
  }
 ],
 "metadata": {
  "kernelspec": {
   "display_name": "Python 3.9.12 ('base')",
   "language": "python",
   "name": "python3"
  },
  "language_info": {
   "codemirror_mode": {
    "name": "ipython",
    "version": 3
   },
   "file_extension": ".py",
   "mimetype": "text/x-python",
   "name": "python",
   "nbconvert_exporter": "python",
   "pygments_lexer": "ipython3",
   "version": "3.9.12"
  },
  "vscode": {
   "interpreter": {
    "hash": "11d000f8c8ddaf1b1615cd4a55e0c52cffba261ac1b0304eb4815222f8ffe5ea"
   }
  }
 },
 "nbformat": 4,
 "nbformat_minor": 4
}
