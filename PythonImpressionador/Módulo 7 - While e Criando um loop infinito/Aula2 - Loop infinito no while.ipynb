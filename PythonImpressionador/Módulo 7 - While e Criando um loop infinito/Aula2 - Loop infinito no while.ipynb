{
 "cells": [
  {
   "cell_type": "markdown",
   "metadata": {},
   "source": [
    "# Cuidado com o while -> Loop Infinito\n",
    "\n",
    "Sempre que for usar o comando while, lembre-se de ter certeza que o programa vai terminar em algum momento\n",
    "\n",
    "### Exemplo\n",
    "\n",
    "Digamos que temos uma lista de vendedores e as quantidades vendidas e queremos identificar todos os vendedores que bateram a meta de 50 vendas."
   ]
  },
  {
   "cell_type": "code",
   "execution_count": 1,
   "metadata": {},
   "outputs": [
    {
     "name": "stdout",
     "output_type": "stream",
     "text": [
      "Maria vendeu 941\n",
      "José vendeu 852\n",
      "Antônio vendeu 783\n",
      "João vendeu 714\n",
      "Francisco vendeu 697\n",
      "Ana vendeu 686\n",
      "Luiz vendeu 685\n",
      "Paulo vendeu 670\n",
      "Carlos vendeu 631\n",
      "Manoel vendeu 453\n",
      "Pedro vendeu 386\n",
      "Francisca vendeu 371\n",
      "Marcos vendeu 294\n",
      "Raimundo vendeu 269\n",
      "Sebastião vendeu 259\n",
      "Antônia vendeu 218\n",
      "Marcelo vendeu 208\n",
      "Jorge vendeu 163\n",
      "Márcia vendeu 125\n",
      "Geraldo vendeu 102\n",
      "Adriana vendeu 87\n"
     ]
    }
   ],
   "source": [
    "vendas = [941, 852, 783, 714, 697, 686, 685, 670, 631, 453, 386, 371, 294, 269, 259, 218, 208, 163, 125, 102, 87, 47, 7]\n",
    "vendedores = ['Maria', 'José', 'Antônio', 'João', 'Francisco', 'Ana', 'Luiz', 'Paulo', 'Carlos', 'Manoel', 'Pedro', 'Francisca', 'Marcos', 'Raimundo', 'Sebastião', 'Antônia', 'Marcelo', 'Jorge', 'Márcia', 'Geraldo', 'Adriana', 'Sandra', 'Luis']\n",
    "meta = 50\n",
    "\n",
    "i = 0\n",
    "\n",
    "while vendas[i] > meta:\n",
    "    print('{} vendeu {}'.format(vendedores[i], vendas[i]))\n",
    "    i += 1 "
   ]
  }
 ],
 "metadata": {
  "kernelspec": {
   "display_name": "Python 3",
   "language": "python",
   "name": "python3"
  },
  "language_info": {
   "codemirror_mode": {
    "name": "ipython",
    "version": 3
   },
   "file_extension": ".py",
   "mimetype": "text/x-python",
   "name": "python",
   "nbconvert_exporter": "python",
   "pygments_lexer": "ipython3",
   "version": "3.10.10"
  },
  "vscode": {
   "interpreter": {
    "hash": "88ab3028cb5e8d826e3baa20b5f270138e6e2ff36e2acf877ab78f8f4582f8e3"
   }
  }
 },
 "nbformat": 4,
 "nbformat_minor": 4
}
