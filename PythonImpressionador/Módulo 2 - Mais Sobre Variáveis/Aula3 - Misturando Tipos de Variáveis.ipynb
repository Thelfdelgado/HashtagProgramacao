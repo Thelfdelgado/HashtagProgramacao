{
 "cells": [
  {
   "cell_type": "code",
   "execution_count": 2,
   "id": "c35ec076",
   "metadata": {},
   "outputs": [
    {
     "name": "stdout",
     "output_type": "stream",
     "text": [
      "O faturamento: 123414\n",
      "O custo: 1000\n",
      "O lucro: 122414\n"
     ]
    }
   ],
   "source": [
    "faturamento = 123414\n",
    "custo = 1000\n",
    "lucro = faturamento - custo\n",
    "print('O faturamento: ' + str(faturamento))\n",
    "print('O custo: ' + str(custo))\n",
    "print('O lucro: ' + str(lucro))"
   ]
  }
 ],
 "metadata": {
  "kernelspec": {
   "display_name": "Python 3",
   "language": "python",
   "name": "python3"
  },
  "language_info": {
   "codemirror_mode": {
    "name": "ipython",
    "version": 3
   },
   "file_extension": ".py",
   "mimetype": "text/x-python",
   "name": "python",
   "nbconvert_exporter": "python",
   "pygments_lexer": "ipython3",
   "version": "3.10.9 (tags/v3.10.9:1dd9be6, Dec  6 2022, 20:01:21) [MSC v.1934 64 bit (AMD64)]"
  },
  "vscode": {
   "interpreter": {
    "hash": "88ab3028cb5e8d826e3baa20b5f270138e6e2ff36e2acf877ab78f8f4582f8e3"
   }
  }
 },
 "nbformat": 4,
 "nbformat_minor": 5
}
