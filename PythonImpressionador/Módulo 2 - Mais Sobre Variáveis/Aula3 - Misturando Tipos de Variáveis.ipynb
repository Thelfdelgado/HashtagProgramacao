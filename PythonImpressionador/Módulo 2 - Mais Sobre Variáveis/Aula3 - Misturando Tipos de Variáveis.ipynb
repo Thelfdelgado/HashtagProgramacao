{
 "cells": [
  {
   "cell_type": "code",
   "execution_count": 2,
   "id": "c35ec076",
   "metadata": {},
   "outputs": [
    {
     "name": "stdout",
     "output_type": "stream",
     "text": [
      "O faturamento: 10000\n",
      "O custo: 500\n",
      "O lucro: 9500\n"
     ]
    }
   ],
   "source": [
    "faturamento = 10000\n",
    "custo = 500\n",
    "lucro = faturamento - custo\n",
    "print('O faturamento: ' + str(faturamento))\n",
    "print('O custo: ' + str(custo))\n",
    "print('O lucro: ' + str(lucro))"
   ]
  }
 ],
 "metadata": {
  "kernelspec": {
   "display_name": "Python 3 (ipykernel)",
   "language": "python",
   "name": "python3"
  },
  "language_info": {
   "codemirror_mode": {
    "name": "ipython",
    "version": 3
   },
   "file_extension": ".py",
   "mimetype": "text/x-python",
   "name": "python",
   "nbconvert_exporter": "python",
   "pygments_lexer": "ipython3",
   "version": "3.9.12"
  }
 },
 "nbformat": 4,
 "nbformat_minor": 5
}
