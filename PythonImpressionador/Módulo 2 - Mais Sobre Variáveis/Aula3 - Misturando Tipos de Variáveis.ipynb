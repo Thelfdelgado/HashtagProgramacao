{
 "cells": [
  {
   "cell_type": "code",
   "execution_count": 2,
   "id": "c35ec076",
   "metadata": {},
   "outputs": [
    {
     "name": "stdout",
     "output_type": "stream",
     "text": [
      "O faturamento: 123414\n",
      "O custo: 1000\n",
      "O lucro: 122414\n"
     ]
    }
   ],
   "source": [
    "faturamento = 123414\n",
    "custo = 1000\n",
    "lucro = faturamento - custo\n",
    "print('O faturamento: ' + str(faturamento))\n",
    "print('O custo: ' + str(custo))\n",
    "print('O lucro: ' + str(lucro))"
   ]
  }
 ],
 "metadata": {
  "kernelspec": {
   "display_name": "Python 3.9.12 ('base')",
   "language": "python",
   "name": "python3"
  },
  "language_info": {
   "codemirror_mode": {
    "name": "ipython",
    "version": 3
   },
   "file_extension": ".py",
   "mimetype": "text/x-python",
   "name": "python",
   "nbconvert_exporter": "python",
   "pygments_lexer": "ipython3",
   "version": "3.9.12"
  },
  "vscode": {
   "interpreter": {
    "hash": "11d000f8c8ddaf1b1615cd4a55e0c52cffba261ac1b0304eb4815222f8ffe5ea"
   }
  }
 },
 "nbformat": 4,
 "nbformat_minor": 5
}
