{
 "cells": [
  {
   "cell_type": "markdown",
   "id": "99b7a4cb",
   "metadata": {},
   "source": [
    "# Método format"
   ]
  },
  {
   "cell_type": "code",
   "execution_count": 1,
   "id": "3abe58a6",
   "metadata": {},
   "outputs": [
    {
     "name": "stdout",
     "output_type": "stream",
     "text": [
      "O faturamento : 10000. O custo: 500. O lucro: 9500\n"
     ]
    }
   ],
   "source": [
    "faturamento = 10000\n",
    "custo = 500\n",
    "lucro = faturamento - custo\n",
    "print('O faturamento : {}. O custo: {}. O lucro: {}'.format(faturamento, custo, lucro))"
   ]
  }
 ],
 "metadata": {
  "kernelspec": {
   "display_name": "Python 3.9.12 ('base')",
   "language": "python",
   "name": "python3"
  },
  "language_info": {
   "codemirror_mode": {
    "name": "ipython",
    "version": 3
   },
   "file_extension": ".py",
   "mimetype": "text/x-python",
   "name": "python",
   "nbconvert_exporter": "python",
   "pygments_lexer": "ipython3",
   "version": "3.9.12"
  },
  "vscode": {
   "interpreter": {
    "hash": "11d000f8c8ddaf1b1615cd4a55e0c52cffba261ac1b0304eb4815222f8ffe5ea"
   }
  }
 },
 "nbformat": 4,
 "nbformat_minor": 5
}
