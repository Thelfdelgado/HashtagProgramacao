{
 "cells": [
  {
   "cell_type": "markdown",
   "id": "36634a8c",
   "metadata": {},
   "source": [
    "0 1 2 3 4 5 6\n",
    "\n",
    "D e l g a d o\n",
    "\n",
    "Pegar um item de uma String: texto[indice]\n",
    "\n",
    "Pegar o tamanho de um texto: len(texto)"
   ]
  },
  {
   "cell_type": "code",
   "execution_count": 3,
   "id": "2c4e356e",
   "metadata": {},
   "outputs": [
    {
     "name": "stdout",
     "output_type": "stream",
     "text": [
      "7\n",
      "17\n",
      "D\n",
      "@\n"
     ]
    }
   ],
   "source": [
    "email = 'delgado@email.com'\n",
    "nome = 'Delgado'\n",
    "\n",
    "print(len(nome))\n",
    "print(len(email))\n",
    "print(nome[0])\n",
    "print(email[7])"
   ]
  },
  {
   "cell_type": "code",
   "execution_count": null,
   "id": "7554f86f",
   "metadata": {},
   "outputs": [],
   "source": []
  }
 ],
 "metadata": {
  "kernelspec": {
   "display_name": "Python 3.9.12 ('base')",
   "language": "python",
   "name": "python3"
  },
  "language_info": {
   "codemirror_mode": {
    "name": "ipython",
    "version": 3
   },
   "file_extension": ".py",
   "mimetype": "text/x-python",
   "name": "python",
   "nbconvert_exporter": "python",
   "pygments_lexer": "ipython3",
   "version": "3.9.12"
  },
  "vscode": {
   "interpreter": {
    "hash": "11d000f8c8ddaf1b1615cd4a55e0c52cffba261ac1b0304eb4815222f8ffe5ea"
   }
  }
 },
 "nbformat": 4,
 "nbformat_minor": 5
}
