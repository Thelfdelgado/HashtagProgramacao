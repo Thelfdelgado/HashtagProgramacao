{
 "cells": [
  {
   "cell_type": "markdown",
   "id": "36634a8c",
   "metadata": {},
   "source": [
    "0 1 2 3 4 5 6\n",
    "\n",
    "D e l g a d o\n",
    "\n",
    "Pegar um item de uma String: texto[indice]\n",
    "\n",
    "Pegar o tamanho de um texto: len(texto)"
   ]
  },
  {
   "cell_type": "code",
   "execution_count": 3,
   "id": "2c4e356e",
   "metadata": {},
   "outputs": [
    {
     "name": "stdout",
     "output_type": "stream",
     "text": [
      "7\n",
      "17\n",
      "D\n",
      "@\n"
     ]
    }
   ],
   "source": [
    "email = 'delgado@email.com'\n",
    "nome = 'Delgado'\n",
    "\n",
    "print(len(nome))\n",
    "print(len(email))\n",
    "print(nome[0])\n",
    "print(email[7])"
   ]
  },
  {
   "cell_type": "code",
   "execution_count": null,
   "id": "7554f86f",
   "metadata": {},
   "outputs": [],
   "source": []
  }
 ],
 "metadata": {
  "kernelspec": {
   "display_name": "Python 3",
   "language": "python",
   "name": "python3"
  },
  "language_info": {
   "codemirror_mode": {
    "name": "ipython",
    "version": 3
   },
   "file_extension": ".py",
   "mimetype": "text/x-python",
   "name": "python",
   "nbconvert_exporter": "python",
   "pygments_lexer": "ipython3",
   "version": "3.10.9 (tags/v3.10.9:1dd9be6, Dec  6 2022, 20:01:21) [MSC v.1934 64 bit (AMD64)]"
  },
  "vscode": {
   "interpreter": {
    "hash": "88ab3028cb5e8d826e3baa20b5f270138e6e2ff36e2acf877ab78f8f4582f8e3"
   }
  }
 },
 "nbformat": 4,
 "nbformat_minor": 5
}
