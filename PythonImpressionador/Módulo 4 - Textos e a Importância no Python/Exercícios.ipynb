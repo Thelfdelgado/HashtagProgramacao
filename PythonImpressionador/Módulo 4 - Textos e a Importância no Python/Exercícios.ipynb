{
 "cells": [
  {
   "cell_type": "markdown",
   "metadata": {},
   "source": [
    "# Exercícios\n",
    "\n",
    "## 1. Cadastro de CPF\n",
    "\n",
    "Crie um programa para cadastro de CPF de clientes que recebe o CPF em um input box apenas com números.\n",
    "\n",
    "Ex: 'Insira seu CPF (digite apenas números)'\n",
    "\n",
    "Caso o usuário digite algo diferente de números ou digite menos de 11 caracteres (tamanho do CPF brasileiro), o programa deve exibir uma mensagem de \"Digite seu CPF corretamente e digite apenas números\""
   ]
  },
  {
   "cell_type": "code",
   "execution_count": 6,
   "metadata": {},
   "outputs": [
    {
     "name": "stdout",
     "output_type": "stream",
     "text": [
      "Digite seu CPF corretamente e digite apenas numeros\n"
     ]
    }
   ],
   "source": [
    "cpf = input('Insira seu CPF(digite apenas numeros)')\n",
    "\n",
    "if len(cpf) == 11 and cpf.isnumeric() == True:\n",
    "    print('CPF cadastrado!')\n",
    "else:\n",
    "    print('Digite seu CPF corretamente e digite apenas numeros')"
   ]
  },
  {
   "cell_type": "markdown",
   "metadata": {},
   "source": [
    "## 2. Melhorando nosso Cadastro de CPF\n",
    "\n",
    "Agora, além das validações anteriores, vamos criar um input que permita que o usuário insira pontos, traços e inclusive espaços vazios.\n",
    "\n",
    "Nosso programa deve \"tratar\" o que o usuário inserir para padronizar o CPF dele em apenas números.\n",
    "\n",
    "A verificação de tamanho do CPF com 11 caracteres continua válida, mas ela só deve ser feita depois de retirar todos os pontos, traços e espaços do CPF que o cliente inserir e, uma vez retirados pontos, traços e espaços, devem sobrar apenas números no CPF. Qualquer outro caractere deve ser considerado inválido.\n",
    "\n",
    "No final, nosso programa deve exibir uma mensagem para o usuário, caso ele tenha inserido o CPF inválido ou então apenas deve printar o CPF correto já só com número."
   ]
  },
  {
   "cell_type": "code",
   "execution_count": 3,
   "metadata": {},
   "outputs": [
    {
     "name": "stdout",
     "output_type": "stream",
     "text": [
      "12312312312\n"
     ]
    }
   ],
   "source": [
    "cpf = input('Insira seu CPF')\n",
    "cpf = cpf.strip()\n",
    "cpf = cpf.replace('.', '')\n",
    "cpf = cpf.replace('-', '')\n",
    "\n",
    "if len(cpf) == 11 and cpf.isnumeric() == True:\n",
    "    print(cpf)\n",
    "else:\n",
    "    print('Digite seu CPF corretamente e digite apenas numeros') "
   ]
  },
  {
   "cell_type": "markdown",
   "metadata": {},
   "source": [
    "## 3. Cadastro de e-mails\n",
    "\n",
    "- A Hashtag sempre se comunica com seus clientes por e-mail. Para isso, a gente tem em cada página um cadastro de nome e e-mail. Nesse cadastro, nosso sistema verifica se o e-mail que a pessoa inseriu é um e-mail válido, verificando se ele tem '@' e se depois do '@' tem algum ponto, afinal:\n",
    "\n",
    "- liragmail.com NÃO é um e-mail válido\n",
    "- lira@gmail NÃO é um e-mail válido\n",
    "- lira@gmail.com é um e-mail válido\n",
    "\n",
    "Crie um programa que permita o cadastro de nome e e-mail de uma pessoa (por meio de inputs) e que verifique:\n",
    "1. Se nome e e-mail foram preenchidos, caso contrário ele deve avisar para preencher todos os dados corretamente\n",
    "2. Se o e-mail contém '@' e se depois do '@' existe algum '.', caso contrário ele deve exibir uma mensagem de e-mail inválido\n",
    "\n",
    "Obs: Pode te ajudar lembrar do método .find da aula de Métodos de String. Você pode testar o que ele dá como resposta caso ele não encontre um item dentro da string"
   ]
  },
  {
   "cell_type": "code",
   "execution_count": 8,
   "metadata": {},
   "outputs": [
    {
     "name": "stdout",
     "output_type": "stream",
     "text": [
      "Email inválido\n"
     ]
    }
   ],
   "source": [
    "# Criar inputs para nome e email\n",
    "nome = input('Nome: ')\n",
    "email = input('E-mail: ')\n",
    "\n",
    "# Verificar se ambos os inputs foram preenchidos\n",
    "i = email.find('@')\n",
    "\n",
    "if nome and email:\n",
    "    if '@' in email and '.' in email[i:]:\n",
    "        print('Email valido')\n",
    "    else:\n",
    "        print('Email inválido')\n",
    "else:\n",
    "    print('Preencha todos os campos')\n",
    "\n",
    "# Verificar se campo email contem '@' e se depois tem um '.'\n"
   ]
  }
 ],
 "metadata": {
  "kernelspec": {
   "display_name": "Python 3",
   "language": "python",
   "name": "python3"
  },
  "language_info": {
   "codemirror_mode": {
    "name": "ipython",
    "version": 3
   },
   "file_extension": ".py",
   "mimetype": "text/x-python",
   "name": "python",
   "nbconvert_exporter": "python",
   "pygments_lexer": "ipython3",
   "version": "3.10.9"
  },
  "vscode": {
   "interpreter": {
    "hash": "88ab3028cb5e8d826e3baa20b5f270138e6e2ff36e2acf877ab78f8f4582f8e3"
   }
  }
 },
 "nbformat": 4,
 "nbformat_minor": 4
}
