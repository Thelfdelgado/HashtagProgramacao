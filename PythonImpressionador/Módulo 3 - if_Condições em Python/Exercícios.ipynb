{
 "cells": [
  {
   "cell_type": "markdown",
   "metadata": {},
   "source": [
    "# Exercícios com if"
   ]
  },
  {
   "cell_type": "markdown",
   "metadata": {},
   "source": [
    "## 1. Cálculo de Bônus\n",
    "\n",
    "- Crie um programa que calcule e dê um print no bônus que os funcionários devem receber segundo a regra:\n",
    "\n",
    "A meta é 1000 vendas.<br> \n",
    "Se o valor de vendas for maior ou igual a meta, o valor do bônus do funcionário é 10% do valor de vendas.<br>\n",
    "Caso contrário o valor de bônus do funcionário é 0.<br>\n",
    "Print o bônus dos 3 funcionários"
   ]
  },
  {
   "cell_type": "code",
   "execution_count": 3,
   "metadata": {},
   "outputs": [
    {
     "name": "stdout",
     "output_type": "stream",
     "text": [
      "Funcionario 1 ganhou 100.0 de bonus\n",
      "Abaixo da meta\n",
      "Funcionario 3 ganhou 270.0 de bonus\n"
     ]
    }
   ],
   "source": [
    "vendas_funcionario1 = 1000\n",
    "vendas_funcionario2 = 770\n",
    "vendas_funcionario3 = 2700\n",
    "\n",
    "#crie seu código aqui\n",
    "meta = 1000\n",
    "\n",
    "if vendas_funcionario1 >= meta:\n",
    "    bonus = 0.10 * vendas_funcionario1\n",
    "    print('Funcionario 1 ganhou {} de bonus'.format(bonus))\n",
    "else:\n",
    "    print('Abaixo da meta')\n",
    "\n",
    "\n",
    "if vendas_funcionario2 >= meta:\n",
    "    bonus = 0.10 * vendas_funcionario2\n",
    "    print('Funcionario 2 ganhou {} de bonus'.format(bonus))\n",
    "else:\n",
    "    print('Abaixo da meta')\n",
    "\n",
    "\n",
    "if vendas_funcionario3 >= meta:\n",
    "    bonus = 0.10 * vendas_funcionario3\n",
    "    print('Funcionario 3 ganhou {} de bonus'.format(bonus))\n",
    "else:\n",
    "    print('Abaixo da meta')"
   ]
  },
  {
   "cell_type": "raw",
   "metadata": {},
   "source": [
    "Resposta:\n",
    "O funcionário 1 ganhou 100 de bônus\n",
    "O funcionário 2 ganhou 0 de bônus\n",
    "O funcionário 3 ganhou 270 de bônus"
   ]
  },
  {
   "cell_type": "markdown",
   "metadata": {},
   "source": [
    "## 2. Cálculo de bônus com uma nova regra\n",
    "\n",
    "- Agora, crie um novo código que calcule e dê um print no bônus dos funcionários novamente. Porém há uma nova regra nesse 2º caso:\n",
    "\n",
    "A meta é 1000 vendas<br>\n",
    "Agora, os funcionários que venderem muito acima da meta ganham mais bônus do que os outros. Então o bônus é definido da seguinte forma:<br>\n",
    "\n",
    "- Se vendas funcionário for maior ou igual a 2000, então o bônus é de 15% sobre o valor de vendas\n",
    "- Se vendas funcionário for menor do que 2000 e maior ou igual a 1000, então o bônus é de 10% sobre o valor de vendas\n",
    "- Se vendas funcionário for menos do que 1000 então o bônus do funcionário é de 0.\n",
    "\n",
    "Use as mesmas variáveis de vendas_funcionários"
   ]
  },
  {
   "cell_type": "code",
   "execution_count": 4,
   "metadata": {},
   "outputs": [
    {
     "name": "stdout",
     "output_type": "stream",
     "text": [
      "Func 1 recebeu 100.0 de bonus\n",
      "Abaixo da meta\n",
      "Func 1 recebeu 405.0 de super bonus\n"
     ]
    }
   ],
   "source": [
    "#crie seu código aqui\n",
    "meta = 1000\n",
    "\n",
    "if vendas_funcionario1 >= 2000:\n",
    "    bonus = 0.15 * vendas_funcionario1\n",
    "    print('Func 1 recebeu {} de super bonus'.format(bonus))\n",
    "elif vendas_funcionario1 >= 1000 and vendas_funcionario1 <= 2000:\n",
    "    bonus = 0.1 * vendas_funcionario1\n",
    "    print('Func 1 recebeu {} de bonus'.format(bonus))\n",
    "else:\n",
    "    print('Abaixo da meta')\n",
    "\n",
    "if vendas_funcionario2 >= 2000:\n",
    "    bonus = 0.15 * vendas_funcionario2\n",
    "    print('Func 1 recebeu {} de super bonus'.format(bonus))\n",
    "elif vendas_funcionario2 >= 1000 and vendas_funcionario2 <= 2000:\n",
    "    bonus = 0.1 * vendas_funcionario2\n",
    "    print('Func 2 recebeu {} de bonus'.format(bonus))\n",
    "else:\n",
    "    print('Abaixo da meta')    \n",
    "\n",
    "if vendas_funcionario3 >= 2000:\n",
    "    bonus = 0.15 * vendas_funcionario3\n",
    "    print('Func 1 recebeu {} de super bonus'.format(bonus))\n",
    "elif vendas_funcionario3 >= 1000 and vendas_funcionario3 <= 2000:\n",
    "    bonus = 0.1 * vendas_funcionario3\n",
    "    print('Func 3 recebeu {} de bonus'.format(bonus))\n",
    "else:\n",
    "    print('Abaixo da meta')\n",
    "\n",
    "#obs: há 2 formas de fazer, com if dentro de if ou então com if e elif. Escolha a que você preferir"
   ]
  },
  {
   "cell_type": "raw",
   "metadata": {},
   "source": [
    "Resposta:\n",
    "O funcionário 1 ganhou 100 de bônus\n",
    "O funcionário 2 ganhou 0 de bônus\n",
    "O funcionário 3 ganhou 405 de bônus"
   ]
  }
 ],
 "metadata": {
  "kernelspec": {
   "display_name": "Python 3.9.12 ('base')",
   "language": "python",
   "name": "python3"
  },
  "language_info": {
   "codemirror_mode": {
    "name": "ipython",
    "version": 3
   },
   "file_extension": ".py",
   "mimetype": "text/x-python",
   "name": "python",
   "nbconvert_exporter": "python",
   "pygments_lexer": "ipython3",
   "version": "3.9.12"
  },
  "vscode": {
   "interpreter": {
    "hash": "11d000f8c8ddaf1b1615cd4a55e0c52cffba261ac1b0304eb4815222f8ffe5ea"
   }
  }
 },
 "nbformat": 4,
 "nbformat_minor": 4
}
